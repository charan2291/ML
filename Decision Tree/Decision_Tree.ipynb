{
  "cells": [
    {
      "cell_type": "code",
      "execution_count": 1,
      "metadata": {
        "id": "JMHYgbJCm3R8"
      },
      "outputs": [],
      "source": [
        "import pandas as pd\n",
        "import numpy as np\n",
        "import matplotlib.pyplot as plt\n",
        "import seaborn as sns"
      ]
    },
    {
      "cell_type": "code",
      "execution_count": 3,
      "metadata": {
        "colab": {
          "base_uri": "https://localhost:8080/",
          "height": 224
        },
        "id": "D3o219cInLY2",
        "outputId": "fdfc7ae9-ee5d-4b38-829c-eb4da37dffd5"
      },
      "outputs": [
        {
          "data": {
            "text/html": [
              "<div>\n",
              "<style scoped>\n",
              "    .dataframe tbody tr th:only-of-type {\n",
              "        vertical-align: middle;\n",
              "    }\n",
              "\n",
              "    .dataframe tbody tr th {\n",
              "        vertical-align: top;\n",
              "    }\n",
              "\n",
              "    .dataframe thead th {\n",
              "        text-align: right;\n",
              "    }\n",
              "</style>\n",
              "<table border=\"1\" class=\"dataframe\">\n",
              "  <thead>\n",
              "    <tr style=\"text-align: right;\">\n",
              "      <th></th>\n",
              "      <th>customer_id</th>\n",
              "      <th>vintage</th>\n",
              "      <th>age</th>\n",
              "      <th>gender</th>\n",
              "      <th>dependents</th>\n",
              "      <th>occupation</th>\n",
              "      <th>city</th>\n",
              "      <th>customer_nw_category</th>\n",
              "      <th>branch_code</th>\n",
              "      <th>days_since_last_transaction</th>\n",
              "      <th>...</th>\n",
              "      <th>previous_month_end_balance</th>\n",
              "      <th>average_monthly_balance_prevQ</th>\n",
              "      <th>average_monthly_balance_prevQ2</th>\n",
              "      <th>current_month_credit</th>\n",
              "      <th>previous_month_credit</th>\n",
              "      <th>current_month_debit</th>\n",
              "      <th>previous_month_debit</th>\n",
              "      <th>current_month_balance</th>\n",
              "      <th>previous_month_balance</th>\n",
              "      <th>churn</th>\n",
              "    </tr>\n",
              "  </thead>\n",
              "  <tbody>\n",
              "    <tr>\n",
              "      <th>0</th>\n",
              "      <td>1</td>\n",
              "      <td>3135</td>\n",
              "      <td>66</td>\n",
              "      <td>0</td>\n",
              "      <td>0.0</td>\n",
              "      <td>0</td>\n",
              "      <td>187.0</td>\n",
              "      <td>2</td>\n",
              "      <td>755</td>\n",
              "      <td>224.0</td>\n",
              "      <td>...</td>\n",
              "      <td>1458.71</td>\n",
              "      <td>1458.71</td>\n",
              "      <td>1449.07</td>\n",
              "      <td>0.20</td>\n",
              "      <td>0.20</td>\n",
              "      <td>0.20</td>\n",
              "      <td>0.20</td>\n",
              "      <td>1458.71</td>\n",
              "      <td>1458.71</td>\n",
              "      <td>0</td>\n",
              "    </tr>\n",
              "    <tr>\n",
              "      <th>1</th>\n",
              "      <td>6</td>\n",
              "      <td>2531</td>\n",
              "      <td>42</td>\n",
              "      <td>0</td>\n",
              "      <td>2.0</td>\n",
              "      <td>0</td>\n",
              "      <td>1494.0</td>\n",
              "      <td>3</td>\n",
              "      <td>388</td>\n",
              "      <td>58.0</td>\n",
              "      <td>...</td>\n",
              "      <td>1401.72</td>\n",
              "      <td>1643.31</td>\n",
              "      <td>1871.12</td>\n",
              "      <td>0.33</td>\n",
              "      <td>714.61</td>\n",
              "      <td>588.62</td>\n",
              "      <td>1538.06</td>\n",
              "      <td>1157.15</td>\n",
              "      <td>1677.16</td>\n",
              "      <td>1</td>\n",
              "    </tr>\n",
              "    <tr>\n",
              "      <th>2</th>\n",
              "      <td>7</td>\n",
              "      <td>263</td>\n",
              "      <td>42</td>\n",
              "      <td>1</td>\n",
              "      <td>0.0</td>\n",
              "      <td>0</td>\n",
              "      <td>1096.0</td>\n",
              "      <td>2</td>\n",
              "      <td>1666</td>\n",
              "      <td>60.0</td>\n",
              "      <td>...</td>\n",
              "      <td>16059.34</td>\n",
              "      <td>15211.29</td>\n",
              "      <td>13798.82</td>\n",
              "      <td>0.36</td>\n",
              "      <td>0.36</td>\n",
              "      <td>857.50</td>\n",
              "      <td>286.07</td>\n",
              "      <td>15719.44</td>\n",
              "      <td>15349.75</td>\n",
              "      <td>0</td>\n",
              "    </tr>\n",
              "    <tr>\n",
              "      <th>3</th>\n",
              "      <td>8</td>\n",
              "      <td>5922</td>\n",
              "      <td>72</td>\n",
              "      <td>0</td>\n",
              "      <td>0.0</td>\n",
              "      <td>1</td>\n",
              "      <td>1020.0</td>\n",
              "      <td>1</td>\n",
              "      <td>1</td>\n",
              "      <td>98.0</td>\n",
              "      <td>...</td>\n",
              "      <td>7714.19</td>\n",
              "      <td>7859.74</td>\n",
              "      <td>11232.37</td>\n",
              "      <td>0.64</td>\n",
              "      <td>0.64</td>\n",
              "      <td>1299.64</td>\n",
              "      <td>439.26</td>\n",
              "      <td>7076.06</td>\n",
              "      <td>7755.98</td>\n",
              "      <td>0</td>\n",
              "    </tr>\n",
              "    <tr>\n",
              "      <th>4</th>\n",
              "      <td>9</td>\n",
              "      <td>1145</td>\n",
              "      <td>46</td>\n",
              "      <td>0</td>\n",
              "      <td>0.0</td>\n",
              "      <td>0</td>\n",
              "      <td>623.0</td>\n",
              "      <td>2</td>\n",
              "      <td>317</td>\n",
              "      <td>172.0</td>\n",
              "      <td>...</td>\n",
              "      <td>8519.53</td>\n",
              "      <td>6511.82</td>\n",
              "      <td>16314.17</td>\n",
              "      <td>0.27</td>\n",
              "      <td>0.27</td>\n",
              "      <td>443.13</td>\n",
              "      <td>5688.44</td>\n",
              "      <td>8563.84</td>\n",
              "      <td>5317.04</td>\n",
              "      <td>0</td>\n",
              "    </tr>\n",
              "  </tbody>\n",
              "</table>\n",
              "<p>5 rows × 21 columns</p>\n",
              "</div>"
            ],
            "text/plain": [
              "   customer_id  vintage  age  gender  dependents  occupation    city  \\\n",
              "0            1     3135   66       0         0.0           0   187.0   \n",
              "1            6     2531   42       0         2.0           0  1494.0   \n",
              "2            7      263   42       1         0.0           0  1096.0   \n",
              "3            8     5922   72       0         0.0           1  1020.0   \n",
              "4            9     1145   46       0         0.0           0   623.0   \n",
              "\n",
              "   customer_nw_category  branch_code  days_since_last_transaction  ...  \\\n",
              "0                     2          755                        224.0  ...   \n",
              "1                     3          388                         58.0  ...   \n",
              "2                     2         1666                         60.0  ...   \n",
              "3                     1            1                         98.0  ...   \n",
              "4                     2          317                        172.0  ...   \n",
              "\n",
              "   previous_month_end_balance  average_monthly_balance_prevQ  \\\n",
              "0                     1458.71                        1458.71   \n",
              "1                     1401.72                        1643.31   \n",
              "2                    16059.34                       15211.29   \n",
              "3                     7714.19                        7859.74   \n",
              "4                     8519.53                        6511.82   \n",
              "\n",
              "   average_monthly_balance_prevQ2  current_month_credit  \\\n",
              "0                         1449.07                  0.20   \n",
              "1                         1871.12                  0.33   \n",
              "2                        13798.82                  0.36   \n",
              "3                        11232.37                  0.64   \n",
              "4                        16314.17                  0.27   \n",
              "\n",
              "   previous_month_credit  current_month_debit  previous_month_debit  \\\n",
              "0                   0.20                 0.20                  0.20   \n",
              "1                 714.61               588.62               1538.06   \n",
              "2                   0.36               857.50                286.07   \n",
              "3                   0.64              1299.64                439.26   \n",
              "4                   0.27               443.13               5688.44   \n",
              "\n",
              "   current_month_balance  previous_month_balance  churn  \n",
              "0                1458.71                 1458.71      0  \n",
              "1                1157.15                 1677.16      1  \n",
              "2               15719.44                15349.75      0  \n",
              "3                7076.06                 7755.98      0  \n",
              "4                8563.84                 5317.04      0  \n",
              "\n",
              "[5 rows x 21 columns]"
            ]
          },
          "execution_count": 3,
          "metadata": {},
          "output_type": "execute_result"
        }
      ],
      "source": [
        "data = pd.read_csv(\"churn_prediction_simple.csv\")\n",
        "data.head()"
      ]
    },
    {
      "cell_type": "code",
      "execution_count": 4,
      "metadata": {
        "colab": {
          "base_uri": "https://localhost:8080/"
        },
        "id": "UFM3p_Wxn2sS",
        "outputId": "6a1c0cd9-250a-4535-87e9-7ec05992c11f"
      },
      "outputs": [
        {
          "name": "stdout",
          "output_type": "stream",
          "text": [
            "<class 'pandas.core.frame.DataFrame'>\n",
            "RangeIndex: 22067 entries, 0 to 22066\n",
            "Data columns (total 21 columns):\n",
            " #   Column                          Non-Null Count  Dtype  \n",
            "---  ------                          --------------  -----  \n",
            " 0   customer_id                     22067 non-null  int64  \n",
            " 1   vintage                         22067 non-null  int64  \n",
            " 2   age                             22067 non-null  int64  \n",
            " 3   gender                          22067 non-null  int64  \n",
            " 4   dependents                      22067 non-null  float64\n",
            " 5   occupation                      22067 non-null  int64  \n",
            " 6   city                            22067 non-null  float64\n",
            " 7   customer_nw_category            22067 non-null  int64  \n",
            " 8   branch_code                     22067 non-null  int64  \n",
            " 9   days_since_last_transaction     22067 non-null  float64\n",
            " 10  current_balance                 22067 non-null  float64\n",
            " 11  previous_month_end_balance      22067 non-null  float64\n",
            " 12  average_monthly_balance_prevQ   22067 non-null  float64\n",
            " 13  average_monthly_balance_prevQ2  22067 non-null  float64\n",
            " 14  current_month_credit            22067 non-null  float64\n",
            " 15  previous_month_credit           22067 non-null  float64\n",
            " 16  current_month_debit             22067 non-null  float64\n",
            " 17  previous_month_debit            22067 non-null  float64\n",
            " 18  current_month_balance           22067 non-null  float64\n",
            " 19  previous_month_balance          22067 non-null  float64\n",
            " 20  churn                           22067 non-null  int64  \n",
            "dtypes: float64(13), int64(8)\n",
            "memory usage: 3.5 MB\n"
          ]
        }
      ],
      "source": [
        "data.info()"
      ]
    },
    {
      "cell_type": "code",
      "execution_count": 5,
      "metadata": {
        "id": "VaoVUwxsom_2"
      },
      "outputs": [],
      "source": [
        "# Seprating the data set on the basis of dependent and independent variable\n",
        "X = data.drop(columns=['churn','customer_id'])\n",
        "Y = data['churn']"
      ]
    },
    {
      "cell_type": "code",
      "execution_count": 6,
      "metadata": {
        "id": "PuC-8Koapce7"
      },
      "outputs": [],
      "source": [
        "# Scaling the dataset\n",
        "from sklearn.preprocessing import StandardScaler\n",
        "scaler = StandardScaler()\n",
        "scaled_X = scaler.fit_transform(X)"
      ]
    },
    {
      "cell_type": "code",
      "execution_count": 7,
      "metadata": {
        "colab": {
          "base_uri": "https://localhost:8080/"
        },
        "id": "g_V1g8U1qjDm",
        "outputId": "f15a3d00-6789-4999-9c49-9a5a4472261f"
      },
      "outputs": [
        {
          "data": {
            "text/plain": [
              "((17653, 19), (4414, 19), (17653,), (4414,))"
            ]
          },
          "execution_count": 7,
          "metadata": {},
          "output_type": "execute_result"
        }
      ],
      "source": [
        "# Splitting the dataset\n",
        "from sklearn.model_selection import train_test_split\n",
        "x_train,x_test,y_train,y_test = train_test_split(scaled_X,Y,train_size=0.80,stratify=Y)\n",
        "x_train.shape,x_test.shape,y_train.shape,y_test.shape"
      ]
    },
    {
      "cell_type": "markdown",
      "metadata": {
        "id": "I6vEyDTxrn3t"
      },
      "source": [
        "## Model Buiding , Predictions"
      ]
    },
    {
      "cell_type": "code",
      "execution_count": 8,
      "metadata": {
        "colab": {
          "base_uri": "https://localhost:8080/"
        },
        "id": "9wlocX0WrGeF",
        "outputId": "74b37d07-b7af-48fc-8871-fafeded6d0d6"
      },
      "outputs": [
        {
          "data": {
            "text/plain": [
              "0        False\n",
              "1        False\n",
              "2        False\n",
              "3        False\n",
              "4        False\n",
              "         ...  \n",
              "22062    False\n",
              "22063    False\n",
              "22064    False\n",
              "22065    False\n",
              "22066    False\n",
              "Name: churn, Length: 22067, dtype: bool"
            ]
          },
          "execution_count": 8,
          "metadata": {},
          "output_type": "execute_result"
        }
      ],
      "source": [
        "data.churn.isnull()"
      ]
    },
    {
      "cell_type": "code",
      "execution_count": 9,
      "metadata": {
        "id": "uobAu3Lfr21e"
      },
      "outputs": [],
      "source": [
        "from sklearn.tree import DecisionTreeClassifier as DTC\n",
        "classifier = DTC(class_weight='balanced')\n",
        "classifier=DTC()"
      ]
    },
    {
      "cell_type": "code",
      "execution_count": 10,
      "metadata": {
        "id": "etkn9UQcsQYn"
      },
      "outputs": [],
      "source": [
        "classifier.fit(x_train,y_train)\n",
        "prediction_values = classifier.predict(x_train)"
      ]
    },
    {
      "cell_type": "code",
      "execution_count": 11,
      "metadata": {
        "colab": {
          "base_uri": "https://localhost:8080/"
        },
        "id": "hcFs2jxwsbl9",
        "outputId": "18618a67-856b-481b-d2eb-b66d4a75d4a8"
      },
      "outputs": [
        {
          "data": {
            "text/plain": [
              "array([0, 0, 0, 0, 0, 0, 0, 0, 0, 0, 0, 1, 1, 0, 0, 1, 0, 0, 0, 0, 0, 0,\n",
              "       0, 1, 0, 0, 0, 0, 0, 0], dtype=int64)"
            ]
          },
          "execution_count": 11,
          "metadata": {},
          "output_type": "execute_result"
        }
      ],
      "source": [
        "prediction_values[:30]"
      ]
    },
    {
      "cell_type": "code",
      "execution_count": 12,
      "metadata": {
        "colab": {
          "base_uri": "https://localhost:8080/"
        },
        "id": "NZRzaMwKucu6",
        "outputId": "40a394c4-e32a-47aa-c39c-7293e4c00213"
      },
      "outputs": [
        {
          "name": "stdout",
          "output_type": "stream",
          "text": [
            "              precision    recall  f1-score   support\n",
            "\n",
            "           0       1.00      1.00      1.00     14234\n",
            "           1       1.00      1.00      1.00      3419\n",
            "\n",
            "    accuracy                           1.00     17653\n",
            "   macro avg       1.00      1.00      1.00     17653\n",
            "weighted avg       1.00      1.00      1.00     17653\n",
            "\n"
          ]
        }
      ],
      "source": [
        "# Evalution Metrics\n",
        "from sklearn.metrics import classification_report\n",
        "print(classification_report(y_train,prediction_values))"
      ]
    },
    {
      "cell_type": "markdown",
      "metadata": {
        "id": "-c3k7502vC4i"
      },
      "source": [
        "Conclusion: It is perfectly showing value of 1 in every field. Hence it has shown good job in learning from training data. "
      ]
    },
    {
      "cell_type": "code",
      "execution_count": 13,
      "metadata": {
        "colab": {
          "base_uri": "https://localhost:8080/"
        },
        "id": "htiqYGO6vBkl",
        "outputId": "04af07f6-8713-4ffb-dc60-2ac5ca6a2876"
      },
      "outputs": [
        {
          "name": "stdout",
          "output_type": "stream",
          "text": [
            "              precision    recall  f1-score   support\n",
            "\n",
            "           0       0.87      0.85      0.86      3559\n",
            "           1       0.42      0.45      0.44       855\n",
            "\n",
            "    accuracy                           0.77      4414\n",
            "   macro avg       0.64      0.65      0.65      4414\n",
            "weighted avg       0.78      0.77      0.78      4414\n",
            "\n"
          ]
        }
      ],
      "source": [
        "# For test set\n",
        "prediction_values = classifier.predict(x_test)\n",
        "print(classification_report(y_test,prediction_values))"
      ]
    },
    {
      "cell_type": "markdown",
      "metadata": {
        "id": "2NiqJsF6v3Zi"
      },
      "source": [
        "Numbers decreses for test data."
      ]
    },
    {
      "cell_type": "markdown",
      "metadata": {
        "id": "Yor-ZWsBwU-M"
      },
      "source": [
        "### Overfitting\n",
        "If the model is performing too well on the training data but the performance drops significantly over the test then it is called overfitting.\n",
        "\n",
        "### Underfitting\n",
        "If the model is not learning and consistently performing poorly over the test and the train set then it is called underfitting.\n",
        "\n",
        "### Best-fit model\n",
        "If the model performs equally on train and test then it is called best-fit\n"
      ]
    },
    {
      "cell_type": "markdown",
      "metadata": {
        "id": "-UQadGpsyXzZ"
      },
      "source": [
        "## Visualising Decision Tree"
      ]
    },
    {
      "cell_type": "code",
      "execution_count": 14,
      "metadata": {
        "colab": {
          "base_uri": "https://localhost:8080/"
        },
        "id": "O9E1gcVRvxtr",
        "outputId": "ddf6f99f-d19d-4208-e253-dd1886cc8c6c"
      },
      "outputs": [
        {
          "name": "stdout",
          "output_type": "stream",
          "text": [
            "Collecting graphviz\n",
            "  Downloading graphviz-0.19.1-py3-none-any.whl (46 kB)\n",
            "Installing collected packages: graphviz\n",
            "Successfully installed graphviz-0.19.1\n"
          ]
        }
      ],
      "source": [
        "!pip install graphviz"
      ]
    },
    {
      "cell_type": "code",
      "execution_count": 14,
      "metadata": {
        "id": "JXAZveYLyoY0"
      },
      "outputs": [],
      "source": [
        "# from sklearn.tree import export_graphviz\n",
        "# export_graphviz(decision_tree = classifier,out_file='tree_viz',max_depth=None,feature_names=X.columns,\n",
        "#                 label=None,impurity=False)"
      ]
    },
    {
      "cell_type": "code",
      "execution_count": 15,
      "metadata": {
        "id": "84KMe61EzMJk"
      },
      "outputs": [],
      "source": [
        "# from graphviz import render\n",
        "# render(filepath='tree_viz',format='png',engine='neato')"
      ]
    },
    {
      "cell_type": "markdown",
      "metadata": {
        "id": "HEhTbVKxPprz"
      },
      "source": [
        "Our model is overfitted, as DTC is a non parametric algorithm therefore there are no parameter which can control overfitting, but there are criteria which can do this.Therefore we need to do hyperparameter tuning."
      ]
    },
    {
      "cell_type": "markdown",
      "metadata": {
        "id": "xMpliRyAPz2u"
      },
      "source": [
        "## Hyperparameter Tuning"
      ]
    },
    {
      "cell_type": "code",
      "execution_count": 15,
      "metadata": {
        "colab": {
          "base_uri": "https://localhost:8080/"
        },
        "id": "7PswBdvwz6ev",
        "outputId": "06e26139-2f99-43fa-da3e-2f4b79a0af6a"
      },
      "outputs": [
        {
          "data": {
            "text/plain": [
              "DecisionTreeClassifier()"
            ]
          },
          "execution_count": 15,
          "metadata": {},
          "output_type": "execute_result"
        }
      ],
      "source": [
        "classifier = DTC()\n",
        "classifier.fit(x_train,y_train)"
      ]
    },
    {
      "cell_type": "markdown",
      "metadata": {
        "id": "K_kTrMAWV_8Z"
      },
      "source": [
        "### Max_depth"
      ]
    },
    {
      "cell_type": "code",
      "execution_count": 16,
      "metadata": {
        "id": "-8OqYXz9QCQ_"
      },
      "outputs": [],
      "source": [
        "from sklearn.metrics import f1_score\n",
        "def calc_score(model,x1,y1,x2,y2):\n",
        "  model.fit(x1,y1)\n",
        "  predict = model.predict(x1)\n",
        "  f1 = f1_score(y1,predict)\n",
        "\n",
        "  predict = model.predict(x2)\n",
        "  f2 = f1_score(y2,predict)\n",
        "\n",
        "  return f1,f2"
      ]
    },
    {
      "cell_type": "code",
      "execution_count": 17,
      "metadata": {
        "id": "97BWS9URWoeF"
      },
      "outputs": [],
      "source": [
        "def effects(train_score,test_score,x_axis,title):\n",
        "  plt.figure(figsize=(5,7),dpi=100)\n",
        "  plt.plot(x_axis,train_score,color='red',label='train_score')\n",
        "  plt.plot(x_axis,test_score,color='blue',label='test_score')\n",
        "  plt.title(title)\n",
        "  plt.legend()\n",
        "  plt.xlabel(\"Parameter_value\")\n",
        "  plt.ylabel(\"f1 score\")\n",
        "  plt.show()"
      ]
    },
    {
      "cell_type": "code",
      "execution_count": 18,
      "metadata": {
        "id": "Dqkd7gcxXZwS"
      },
      "outputs": [],
      "source": [
        "max_depth = [i for i in range(1,50)]\n",
        "train=[]\n",
        "test=[]\n",
        "\n",
        "for i in max_depth:\n",
        "  model = DTC(class_weight='balanced',max_depth=i,random_state=42)\n",
        "  f1,f2 = calc_score(model,x_train,y_train,x_test,y_test)\n",
        "  train.append(f1)\n",
        "  test.append(f2)\n"
      ]
    },
    {
      "cell_type": "code",
      "execution_count": 19,
      "metadata": {
        "colab": {
          "base_uri": "https://localhost:8080/",
          "height": 631
        },
        "id": "7Nl2Fd6kY1X_",
        "outputId": "b35bcd51-71b2-4390-f37e-cec0713994dd"
      },
      "outputs": [
        {
          "data": {
            "image/png": "[encoded data removed]",
            "text/plain": [
              "<Figure size 500x700 with 1 Axes>"
            ]
          },
          "metadata": {
            "needs_background": "light"
          },
          "output_type": "display_data"
        }
      ],
      "source": [
        "effects(train,test,range(1,50),'max_depth')"
      ]
    },
    {
      "cell_type": "markdown",
      "metadata": {
        "id": "8vNNUYQCZoer"
      },
      "source": [
        "## min_samples_split"
      ]
    },
    {
      "cell_type": "code",
      "execution_count": 20,
      "metadata": {
        "id": "akT25apwZEUF"
      },
      "outputs": [],
      "source": [
        "min_samples = [i for i in range(2,5000, 25)]\n",
        "train = []\n",
        "test = []\n",
        "\n",
        "for i in min_samples:  \n",
        "  model = DTC(class_weight = 'balanced', min_samples_split = i, random_state = 42)\n",
        "  f1, f2 = calc_score(model, x_train, y_train, x_test, y_test)\n",
        "  train.append(f1)\n",
        "  test.append(f2)"
      ]
    },
    {
      "cell_type": "code",
      "execution_count": 21,
      "metadata": {
        "colab": {
          "base_uri": "https://localhost:8080/",
          "height": 631
        },
        "id": "P8z20U3RZ5HR",
        "outputId": "1e18ec99-02ae-4fec-fdc2-2e0bcde21139"
      },
      "outputs": [
        {
          "data": {
            "image/png": "[encoded data removed]",
            "text/plain": [
              "<Figure size 500x700 with 1 Axes>"
            ]
          },
          "metadata": {
            "needs_background": "light"
          },
          "output_type": "display_data"
        }
      ],
      "source": [
        "effects(train,test,range(2,5000,25),'min_samples_split')"
      ]
    },
    {
      "cell_type": "markdown",
      "metadata": {
        "id": "KnnnBC7WaeO1"
      },
      "source": [
        "## Max_leaf_nodes"
      ]
    },
    {
      "cell_type": "code",
      "execution_count": 22,
      "metadata": {
        "id": "yFZAVqS5aah3"
      },
      "outputs": [],
      "source": [
        "maxleafnodes = [i for i in range(2,200, 10)]\n",
        "train = []\n",
        "test = []\n",
        "\n",
        "for i in maxleafnodes:  \n",
        "  model = DTC(class_weight = 'balanced', min_samples_split = i, random_state = 42)\n",
        "  f1, f2 = calc_score(model, x_train, y_train, x_test, y_test)\n",
        "  train.append(f1)\n",
        "  test.append(f2)"
      ]
    },
    {
      "cell_type": "code",
      "execution_count": 23,
      "metadata": {
        "colab": {
          "base_uri": "https://localhost:8080/",
          "height": 631
        },
        "id": "Hi3CY9s_aylu",
        "outputId": "785a1547-cc5d-450c-aac4-fe3636941c57"
      },
      "outputs": [
        {
          "data": {
            "image/png": "[encoded data removed]",
            "text/plain": [
              "<Figure size 500x700 with 1 Axes>"
            ]
          },
          "metadata": {
            "needs_background": "light"
          },
          "output_type": "display_data"
        }
      ],
      "source": [
        "effects(train,test,range(2,200,10),'max_leaf_nodes')"
      ]
    },
    {
      "cell_type": "markdown",
      "metadata": {
        "id": "n1nDitqza_rf"
      },
      "source": [
        "## Min_sample_leaf"
      ]
    },
    {
      "cell_type": "code",
      "execution_count": 24,
      "metadata": {
        "id": "mGK1BWwAa4O_"
      },
      "outputs": [],
      "source": [
        "minsamplesleaf = [i for i in range(2,4000, 25)]\n",
        "train = []\n",
        "test = []\n",
        "\n",
        "for i in minsamplesleaf:  \n",
        "  model = DTC(class_weight = 'balanced', min_samples_split = i, random_state = 42)\n",
        "  f1, f2 = calc_score(model, x_train, y_train, x_test, y_test)\n",
        "  train.append(f1)\n",
        "  test.append(f2)"
      ]
    },
    {
      "cell_type": "code",
      "execution_count": 25,
      "metadata": {
        "colab": {
          "base_uri": "https://localhost:8080/",
          "height": 631
        },
        "id": "5KgspNRjbOii",
        "outputId": "f0aa61a2-8710-4309-940d-b6c03b1909b2"
      },
      "outputs": [
        {
          "data": {
            "image/png": "[encoded data removed]",
            "text/plain": [
              "<Figure size 500x700 with 1 Axes>"
            ]
          },
          "metadata": {
            "needs_background": "light"
          },
          "output_type": "display_data"
        }
      ],
      "source": [
        "effects(train,test,range(2,4000,25),'min_samples_leaf')"
      ]
    },
    {
      "cell_type": "markdown",
      "metadata": {
        "id": "XJfRtX7bbjrw"
      },
      "source": [
        "# feature engineering"
      ]
    },
    {
      "cell_type": "code",
      "execution_count": 26,
      "metadata": {
        "id": "dtA6ICqhbU_S"
      },
      "outputs": [],
      "source": [
        "model =DTC(max_depth=9)\n",
        "model.fit(x_train,y_train)\n",
        "feature_imp = pd.Series(model.feature_importances_,index=X.columns)\n",
        "k=feature_imp.sort_values()"
      ]
    },
    {
      "cell_type": "code",
      "execution_count": 27,
      "metadata": {
        "colab": {
          "base_uri": "https://localhost:8080/",
          "height": 308
        },
        "id": "Gmx3Vs8BcGGv",
        "outputId": "936c3e18-4005-4c58-a4e9-1f4b9b421dd3"
      },
      "outputs": [
        {
          "data": {
            "text/plain": [
              "Text(0.5, 1.0, 'Feature Importance')"
            ]
          },
          "execution_count": 27,
          "metadata": {},
          "output_type": "execute_result"
        },
        {
          "data": {
            "image/png": "[encoded data removed]",
            "text/plain": [
              "<Figure size 1200x600 with 1 Axes>"
            ]
          },
          "metadata": {
            "needs_background": "light"
          },
          "output_type": "display_data"
        }
      ],
      "source": [
        "plt.figure(figsize=(10,5),dpi=120)\n",
        "plt.barh(k.index,k)\n",
        "plt.xlabel(\"Importance\")\n",
        "plt.ylabel(\"Feature_name\")\n",
        "plt.title('Feature Importance')"
      ]
    },
    {
      "cell_type": "code",
      "execution_count": null,
      "metadata": {
        "id": "jI03QQtjck7d"
      },
      "outputs": [],
      "source": []
    }
  ],
  "metadata": {
    "colab": {
      "name": "Decision-Tree.ipynb",
      "provenance": []
    },
    "kernelspec": {
      "display_name": "Python 3",
      "name": "python3"
    },
    "language_info": {
      "codemirror_mode": {
        "name": "ipython",
        "version": 3
      },
      "file_extension": ".py",
      "mimetype": "text/x-python",
      "name": "python",
      "nbconvert_exporter": "python",
      "pygments_lexer": "ipython3",
      "version": "3.9.7"
    }
  },
  "nbformat": 4,
  "nbformat_minor": 0
}
